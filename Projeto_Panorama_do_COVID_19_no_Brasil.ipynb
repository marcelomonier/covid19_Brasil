{
  "nbformat": 4,
  "nbformat_minor": 0,
  "metadata": {
    "colab": {
      "name": "Projeto - Panorama do COVID-19 no Brasil.ipynb",
      "provenance": [],
      "authorship_tag": "ABX9TyNEp4gG6wsyYnJFmFTe6yV9",
      "include_colab_link": true
    },
    "kernelspec": {
      "name": "python3",
      "display_name": "Python 3"
    },
    "language_info": {
      "name": "python"
    }
  },
  "cells": [
    {
      "cell_type": "markdown",
      "metadata": {
        "id": "view-in-github",
        "colab_type": "text"
      },
      "source": [
        "<a href=\"https://colab.research.google.com/github/marcelomonier/covid19_Brasil/blob/main/Projeto_Panorama_do_COVID_19_no_Brasil.ipynb\" target=\"_parent\"><img src=\"https://colab.research.google.com/assets/colab-badge.svg\" alt=\"Open In Colab\"/></a>"
      ]
    },
    {
      "cell_type": "markdown",
      "source": [
        "<img alt=\"Colaboratory logo\" width=\"25%\" src=\"https://github.com/marcelomonier/airbnb_project/blob/main/logo_moment.png?raw=true\">\n",
        "\n",
        "---"
      ],
      "metadata": {
        "id": "O0JyFdz_AkNu"
      }
    },
    {
      "cell_type": "markdown",
      "source": [
        "# **COVID-19 no Brasil**\n",
        "\n",
        "<p align=\"justify\">\n",
        "A Oraganização Mundia de Saúde (OMS), no dia 31 de dezempbro de 2019, foi alertada sobre inúmeros casos de pneumonia na China, em Wuhan, especificamente. Era uma nova cepa, ou seja, um novo tipo de coronavírus que não havia sido detectada em seres humanos.\n",
        "\n",
        "<p align=\"justify\">\n",
        "Na semana seguinte, 7 de janeiro de 2020, o governo chinês confirma um novo coronavírus. Segundo a OMS, esse tipo de vírus é a segunda maior causa de resfriado comum, perde apenas para o rinovírus. Entretanto, nas últimas décadas, dificilmente causavam doenças mais graves em humanos.\n",
        "\n",
        "\n",
        "<center>\n",
        "<img width=\"55%\" src='https://img.freepik.com/free-vector/covid19-coronavirus-red-virus-cell-spread-background-concept_1017-24697.jpg?w=1380'/>\n",
        "</center>\n",
        "\n",
        "\n",
        "\n",
        "<p align=\"justify\">\n",
        "No dia 08 de março, a média móvel de novos casos chegou a 40.264, um aumento em de 0,3% em relação ao dia anterior. É a primeira vez que a média móvel de casos sobe após 25 dias ininterruptos de queda. Já a média móvel de óbitos está em 430 — exatamente a mesma do dia anterior. A estabilidade também interrompe uma queda que já durava 14 dias seguidos.\n",
        "\n",
        "\n",
        "\n"
      ],
      "metadata": {
        "id": "XLzDrUPKAnal"
      }
    },
    {
      "cell_type": "code",
      "execution_count": null,
      "metadata": {
        "id": "ISDiHZ9KAatP"
      },
      "outputs": [],
      "source": [
        ""
      ]
    }
  ]
}